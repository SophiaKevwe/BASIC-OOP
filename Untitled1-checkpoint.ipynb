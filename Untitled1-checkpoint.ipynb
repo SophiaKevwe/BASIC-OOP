{
 "cells": [
  {
   "cell_type": "markdown",
   "id": "9ad0767c",
   "metadata": {},
   "source": [
    "LOOPS\n"
   ]
  },
  {
   "cell_type": "code",
   "execution_count": 8,
   "id": "42e1437c",
   "metadata": {},
   "outputs": [
    {
     "name": "stdout",
     "output_type": "stream",
     "text": [
      "Hello World\n",
      "Hello World\n",
      "Hello World\n",
      "Hello World\n",
      "Hello World\n"
     ]
    }
   ],
   "source": [
    "spam = 0\n",
    "while spam < 5:\n",
    "    print(\"Hello World\")\n",
    "    spam = spam + 1\n"
   ]
  },
  {
   "cell_type": "code",
   "execution_count": 14,
   "id": "2e6f848f",
   "metadata": {},
   "outputs": [
    {
     "name": "stdout",
     "output_type": "stream",
     "text": [
      "Hello World\n",
      "0\n",
      "Hello World\n",
      "1\n",
      "Hello World\n",
      "2\n",
      "Hello World\n",
      "3\n",
      "Hello World\n",
      "4\n",
      "[1, 3, 5, 7, 9]\n"
     ]
    }
   ],
   "source": [
    "spam = \"Hello World\"\n",
    "for i in range (5):\n",
    "    print(spam)\n",
    "    print(i)\n",
    "odd = list(range(1,10,2))\n",
    "for x in odd"
   ]
  },
  {
   "cell_type": "code",
   "execution_count": 17,
   "id": "868797f2",
   "metadata": {},
   "outputs": [
    {
     "name": "stdout",
     "output_type": "stream",
     "text": [
      "50.0\n",
      "49.0\n"
     ]
    }
   ],
   "source": [
    "odd = list(range(1,100,2))\n",
    "b = sum(odd)\n",
    "avg= b/len(odd)\n",
    "print (avg)\n",
    "even = list(range(0,100,2))\n",
    "c = sum(even)\n",
    "avgg= c/len(odd)\n",
    "print (avgg)"
   ]
  },
  {
   "cell_type": "code",
   "execution_count": 26,
   "id": "9f937108",
   "metadata": {},
   "outputs": [
    {
     "name": "stdout",
     "output_type": "stream",
     "text": [
      "50.0\n"
     ]
    }
   ],
   "source": [
    "odd = list(range(1,100,2))  \n",
    "summ = 0\n",
    "for x in odd: \n",
    "    summ = summ + x\n",
    "    avggg = summ/len(odd)\n",
    "print(avggg)"
   ]
  },
  {
   "cell_type": "code",
   "execution_count": 22,
   "id": "fd13e7bd",
   "metadata": {},
   "outputs": [
    {
     "name": "stdout",
     "output_type": "stream",
     "text": [
      "[5, 4, 3, 2, 1]\n"
     ]
    }
   ],
   "source": [
    "countdown = list(range(5,0,-1))  \n",
    "print (countdown)"
   ]
  },
  {
   "cell_type": "code",
   "execution_count": 23,
   "id": "aeb38d5d",
   "metadata": {},
   "outputs": [
    {
     "name": "stdout",
     "output_type": "stream",
     "text": [
      "Please type your name\n",
      "KEVWD\\\n",
      "Please type your name\n",
      "KEVWE\n",
      "Thank you!\n"
     ]
    }
   ],
   "source": [
    "while True:\n",
    "    print(\"Please type your name\")\n",
    "    name = input()\n",
    "    if name  == \"KEVWE\":\n",
    "        break\n",
    "print(\"Thank you!\")"
   ]
  },
  {
   "cell_type": "code",
   "execution_count": null,
   "id": "4b50e5c0",
   "metadata": {},
   "outputs": [],
   "source": []
  }
 ],
 "metadata": {
  "kernelspec": {
   "display_name": "Python 3",
   "language": "python",
   "name": "python3"
  },
  "language_info": {
   "codemirror_mode": {
    "name": "ipython",
    "version": 3
   },
   "file_extension": ".py",
   "mimetype": "text/x-python",
   "name": "python",
   "nbconvert_exporter": "python",
   "pygments_lexer": "ipython3",
   "version": "3.8.8"
  }
 },
 "nbformat": 4,
 "nbformat_minor": 5
}
